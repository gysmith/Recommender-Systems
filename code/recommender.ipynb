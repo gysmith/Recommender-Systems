{
 "cells": [
  {
   "cell_type": "code",
   "execution_count": 1,
   "metadata": {},
   "outputs": [],
   "source": [
    "import pandas as pd\n",
    "import turicreate as tc"
   ]
  },
  {
   "cell_type": "code",
   "execution_count": 2,
   "metadata": {},
   "outputs": [
    {
     "data": {
      "text/html": [
       "<pre>Finished parsing file /home/hammed/Documents/PythonProject/ds-ml-al/Recommender/code/ml-100k/u.user</pre>"
      ],
      "text/plain": [
       "Finished parsing file /home/hammed/Documents/PythonProject/ds-ml-al/Recommender/code/ml-100k/u.user"
      ]
     },
     "metadata": {},
     "output_type": "display_data"
    },
    {
     "data": {
      "text/html": [
       "<pre>Parsing completed. Parsed 100 lines in 0.063044 secs.</pre>"
      ],
      "text/plain": [
       "Parsing completed. Parsed 100 lines in 0.063044 secs."
      ]
     },
     "metadata": {},
     "output_type": "display_data"
    },
    {
     "name": "stdout",
     "output_type": "stream",
     "text": [
      "------------------------------------------------------\n",
      "Inferred types from first 100 line(s) of file as \n",
      "column_type_hints=[int,int,str,str]\n",
      "If parsing fails due to incorrect types, you can correct\n",
      "the inferred type list above and pass it to read_csv in\n",
      "the column_type_hints argument\n",
      "------------------------------------------------------\n"
     ]
    },
    {
     "data": {
      "text/html": [
       "<pre>Read 943 lines. Lines per second: 15892.5</pre>"
      ],
      "text/plain": [
       "Read 943 lines. Lines per second: 15892.5"
      ]
     },
     "metadata": {},
     "output_type": "display_data"
    },
    {
     "data": {
      "text/html": [
       "<pre>Finished parsing file /home/hammed/Documents/PythonProject/ds-ml-al/Recommender/code/ml-100k/u.user</pre>"
      ],
      "text/plain": [
       "Finished parsing file /home/hammed/Documents/PythonProject/ds-ml-al/Recommender/code/ml-100k/u.user"
      ]
     },
     "metadata": {},
     "output_type": "display_data"
    },
    {
     "data": {
      "text/html": [
       "<pre>Parsing completed. Parsed 943 lines in 0.070678 secs.</pre>"
      ],
      "text/plain": [
       "Parsing completed. Parsed 943 lines in 0.070678 secs."
      ]
     },
     "metadata": {},
     "output_type": "display_data"
    },
    {
     "data": {
      "text/html": [
       "<pre>Finished parsing file /home/hammed/Documents/PythonProject/ds-ml-al/Recommender/code/ml-100k/u1.base</pre>"
      ],
      "text/plain": [
       "Finished parsing file /home/hammed/Documents/PythonProject/ds-ml-al/Recommender/code/ml-100k/u1.base"
      ]
     },
     "metadata": {},
     "output_type": "display_data"
    },
    {
     "data": {
      "text/html": [
       "<pre>Parsing completed. Parsed 100 lines in 0.230539 secs.</pre>"
      ],
      "text/plain": [
       "Parsing completed. Parsed 100 lines in 0.230539 secs."
      ]
     },
     "metadata": {},
     "output_type": "display_data"
    },
    {
     "name": "stdout",
     "output_type": "stream",
     "text": [
      "------------------------------------------------------\n",
      "Inferred types from first 100 line(s) of file as \n",
      "column_type_hints=[int,int,int]\n",
      "If parsing fails due to incorrect types, you can correct\n",
      "the inferred type list above and pass it to read_csv in\n",
      "the column_type_hints argument\n",
      "------------------------------------------------------\n"
     ]
    },
    {
     "data": {
      "text/html": [
       "<pre>Finished parsing file /home/hammed/Documents/PythonProject/ds-ml-al/Recommender/code/ml-100k/u1.base</pre>"
      ],
      "text/plain": [
       "Finished parsing file /home/hammed/Documents/PythonProject/ds-ml-al/Recommender/code/ml-100k/u1.base"
      ]
     },
     "metadata": {},
     "output_type": "display_data"
    },
    {
     "data": {
      "text/html": [
       "<pre>Parsing completed. Parsed 80000 lines in 0.146891 secs.</pre>"
      ],
      "text/plain": [
       "Parsing completed. Parsed 80000 lines in 0.146891 secs."
      ]
     },
     "metadata": {},
     "output_type": "display_data"
    },
    {
     "data": {
      "text/html": [
       "<pre>Finished parsing file /home/hammed/Documents/PythonProject/ds-ml-al/Recommender/code/ml-100k/u.item</pre>"
      ],
      "text/plain": [
       "Finished parsing file /home/hammed/Documents/PythonProject/ds-ml-al/Recommender/code/ml-100k/u.item"
      ]
     },
     "metadata": {},
     "output_type": "display_data"
    },
    {
     "data": {
      "text/html": [
       "<pre>Parsing completed. Parsed 100 lines in 0.08563 secs.</pre>"
      ],
      "text/plain": [
       "Parsing completed. Parsed 100 lines in 0.08563 secs."
      ]
     },
     "metadata": {},
     "output_type": "display_data"
    },
    {
     "name": "stdout",
     "output_type": "stream",
     "text": [
      "------------------------------------------------------\n",
      "Inferred types from first 100 line(s) of file as \n",
      "column_type_hints=[int,str]\n",
      "If parsing fails due to incorrect types, you can correct\n",
      "the inferred type list above and pass it to read_csv in\n",
      "the column_type_hints argument\n",
      "------------------------------------------------------\n"
     ]
    },
    {
     "data": {
      "text/html": [
       "<pre>Finished parsing file /home/hammed/Documents/PythonProject/ds-ml-al/Recommender/code/ml-100k/u.item</pre>"
      ],
      "text/plain": [
       "Finished parsing file /home/hammed/Documents/PythonProject/ds-ml-al/Recommender/code/ml-100k/u.item"
      ]
     },
     "metadata": {},
     "output_type": "display_data"
    },
    {
     "data": {
      "text/html": [
       "<pre>Parsing completed. Parsed 1682 lines in 0.069199 secs.</pre>"
      ],
      "text/plain": [
       "Parsing completed. Parsed 1682 lines in 0.069199 secs."
      ]
     },
     "metadata": {},
     "output_type": "display_data"
    }
   ],
   "source": [
    "user = tc.SFrame.read_csv(\"ml-100k/u.user\", header=None, delimiter='|', usecols=[\"X1\", \"X2\", \"X3\", \"X4\"])\n",
    "user = user.rename({\"X1\":\"user_id\", \"X2\":\"Age\", \"X4\":\"occupation\", \"X3\":\"Sex\"})\n",
    "base = tc.SFrame.read_csv(\"ml-100k/u1.base\", header=None, delimiter='\\t', usecols=[\"X1\", \"X2\", \"X3\"])\n",
    "base = base.rename({\"X1\":\"item_id\", \"X2\":\"user_id\", \"X3\":\"ratings\"})\n",
    "item = tc.SFrame.read_csv(\"ml-100k/u.item\", delimiter=\"|\",header=None, usecols=[\"X1\", \"X2\"])\n",
    "item = item.rename({\"X1\":\"user_id\", \"X2\":\"movie_title\"})"
   ]
  },
  {
   "cell_type": "code",
   "execution_count": 3,
   "metadata": {},
   "outputs": [],
   "source": [
    "use = user.join(base)\n",
    "analyse =use.join(item)"
   ]
  },
  {
   "cell_type": "code",
   "execution_count": null,
   "metadata": {},
   "outputs": [],
   "source": [
    "analyse.head()"
   ]
  },
  {
   "cell_type": "code",
   "execution_count": null,
   "metadata": {},
   "outputs": [],
   "source": [
    "train,test = tc.recommender.util.random_split_by_user(analyse)"
   ]
  },
  {
   "cell_type": "code",
   "execution_count": null,
   "metadata": {},
   "outputs": [],
   "source": [
    "ISM = tc.recommender.item_similarity_recommender.create(train, user_id=\"user_id\", item_id=\"item_id\", target= \"ratings\")\n",
    "ICR = tc.recommender.item_content_recommender.create(train, user_id=\"user_id\", item_id=\"item_id\", target=\"ratings\")\n",
    "FR = tc.recommender.factorization_recommender.create(train, user_id=\"user_id\", item_id=\"item_id\", target=\"ratings\")"
   ]
  },
  {
   "cell_type": "code",
   "execution_count": null,
   "metadata": {},
   "outputs": [],
   "source": [
    "ism = ISM.recommed()\n",
    "icr = ICR.recommed()\n",
    "fr = FR.recommed()"
   ]
  },
  {
   "cell_type": "code",
   "execution_count": null,
   "metadata": {},
   "outputs": [],
   "source": [
    "from turicreate.toolkits.recommender.util import precision_recall_by_user\n",
    "\n",
    "precision_recall_by_user(test, ism)"
   ]
  },
  {
   "cell_type": "code",
   "execution_count": null,
   "metadata": {},
   "outputs": [],
   "source": [
    "#checking the rms value\n",
    "ism.evaluate_rms()"
   ]
  }
 ],
 "metadata": {
  "kernelspec": {
   "display_name": "Python 3",
   "language": "python",
   "name": "python3"
  },
  "language_info": {
   "codemirror_mode": {
    "name": "ipython",
    "version": 3
   },
   "file_extension": ".py",
   "mimetype": "text/x-python",
   "name": "python",
   "nbconvert_exporter": "python",
   "pygments_lexer": "ipython3",
   "version": "3.6.5"
  }
 },
 "nbformat": 4,
 "nbformat_minor": 2
}
